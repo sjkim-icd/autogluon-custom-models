{
 "cells": [
  {
   "cell_type": "code",
   "execution_count": 4,
   "metadata": {},
   "outputs": [
    {
     "ename": "TypeError",
     "evalue": "load_study() missing 1 required keyword-only argument: 'study_name'",
     "output_type": "error",
     "traceback": [
      "\u001b[31m---------------------------------------------------------------------------\u001b[39m",
      "\u001b[31mTypeError\u001b[39m                                 Traceback (most recent call last)",
      "\u001b[36mCell\u001b[39m\u001b[36m \u001b[39m\u001b[32mIn[4]\u001b[39m\u001b[32m, line 9\u001b[39m\n\u001b[32m      6\u001b[39m unified_db_path = \u001b[33mf\u001b[39m\u001b[33m'\u001b[39m\u001b[33msqlite:///\u001b[39m\u001b[38;5;132;01m{\u001b[39;00mdb_path\u001b[38;5;132;01m}\u001b[39;00m\u001b[33m'\u001b[39m\n\u001b[32m      8\u001b[39m \u001b[38;5;66;03m# Study 로드\u001b[39;00m\n\u001b[32m----> \u001b[39m\u001b[32m9\u001b[39m study = \u001b[43moptuna\u001b[49m\u001b[43m.\u001b[49m\u001b[43mload_study\u001b[49m\u001b[43m(\u001b[49m\n\u001b[32m     10\u001b[39m \u001b[43m    \u001b[49m\u001b[43mstorage\u001b[49m\u001b[43m=\u001b[49m\u001b[43munified_db_path\u001b[49m\n\u001b[32m     11\u001b[39m \u001b[43m)\u001b[49m\n\u001b[32m     13\u001b[39m \u001b[38;5;66;03m# Study 정보 확인\u001b[39;00m\n\u001b[32m     14\u001b[39m \u001b[38;5;28mprint\u001b[39m(\u001b[33mf\u001b[39m\u001b[33m\"\u001b[39m\u001b[33m📊 Study 이름: \u001b[39m\u001b[38;5;132;01m{\u001b[39;00mstudy.study_name\u001b[38;5;132;01m}\u001b[39;00m\u001b[33m\"\u001b[39m)\n",
      "\u001b[36mFile \u001b[39m\u001b[32mc:\\Users\\woori\\venv\\Lib\\site-packages\\optuna\\_convert_positional_args.py:134\u001b[39m, in \u001b[36mconvert_positional_args.<locals>.converter_decorator.<locals>.converter_wrapper\u001b[39m\u001b[34m(*args, **kwargs)\u001b[39m\n\u001b[32m    128\u001b[39m     \u001b[38;5;28;01mraise\u001b[39;00m \u001b[38;5;167;01mTypeError\u001b[39;00m(\n\u001b[32m    129\u001b[39m         \u001b[33mf\u001b[39m\u001b[33m\"\u001b[39m\u001b[38;5;132;01m{\u001b[39;00mfunc.\u001b[34m__name__\u001b[39m\u001b[38;5;132;01m}\u001b[39;00m\u001b[33m() got multiple values for arguments \u001b[39m\u001b[38;5;132;01m{\u001b[39;00mduplicated_kwds\u001b[38;5;132;01m}\u001b[39;00m\u001b[33m.\u001b[39m\u001b[33m\"\u001b[39m\n\u001b[32m    130\u001b[39m     )\n\u001b[32m    132\u001b[39m kwargs.update(inferred_kwargs)\n\u001b[32m--> \u001b[39m\u001b[32m134\u001b[39m \u001b[38;5;28;01mreturn\u001b[39;00m \u001b[43mfunc\u001b[49m\u001b[43m(\u001b[49m\u001b[43m*\u001b[49m\u001b[43m*\u001b[49m\u001b[43mkwargs\u001b[49m\u001b[43m)\u001b[49m\n",
      "\u001b[31mTypeError\u001b[39m: load_study() missing 1 required keyword-only argument: 'study_name'"
     ]
    }
   ],
   "source": [
    "import optuna\n",
    "\n",
    "# 데이터베이스 경로\n",
    "experiment_name = 'credit_card_experiment_20'\n",
    "db_path = f'optuna_studies/{experiment_name}/all_studies.db'\n",
    "unified_db_path = f'sqlite:///{db_path}'\n",
    "\n",
    "# Study 로드\n",
    "study = optuna.load_study(\n",
    "    storage=unified_db_path\n",
    ")\n",
    "\n",
    "# Study 정보 확인\n",
    "print(f\"📊 Study 이름: {study.study_name}\")\n",
    "print(f\"📈 Trial 수: {len(study.trials)}\")\n",
    "print(f\"�� Best value: {study.best_value}\")\n",
    "print(f\"⚙️ Best params: {study.best_params}\")"
   ]
  },
  {
   "cell_type": "code",
   "execution_count": null,
   "metadata": {},
   "outputs": [
    {
     "name": "stdout",
     "output_type": "stream",
     "text": [
      " 총 1개의 Study:\n",
      "  📊 DCNV2_hpo_study\n",
      "     - Trials: 1\n",
      "     - Best value: N/A\n",
      "---\n"
     ]
    },
    {
     "ename": "",
     "evalue": "",
     "output_type": "error",
     "traceback": [
      "\u001b[1;31mThe Kernel crashed while executing code in the current cell or a previous cell. \n",
      "\u001b[1;31mPlease review the code in the cell(s) to identify a possible cause of the failure. \n",
      "\u001b[1;31mClick <a href='https://aka.ms/vscodeJupyterKernelCrash'>here</a> for more info. \n",
      "\u001b[1;31mView Jupyter <a href='command:jupyter.viewOutput'>log</a> for further details."
     ]
    }
   ],
   "source": [
    "experiment_name = 'credit_card_experiment_20'\n",
    "db_path = f'optuna_studies/{experiment_name}/all_studies.db'\n",
    "unified_db_path = f'sqlite:///{db_path}'\n",
    "\n",
    "# 모든 Study 요약 정보 가져오기\n",
    "studies = optuna.get_all_study_summaries(storage=unified_db_path)\n",
    "\n",
    "print(f\" 총 {len(studies)}개의 Study:\")\n",
    "for study_summary in studies:\n",
    "    print(f\"  📊 {study_summary.study_name}\")\n",
    "    print(f\"     - Trials: {study_summary.n_trials}\")\n",
    "    print(f\"     - Best value: {study_summary.best_trial.value if study_summary.best_trial else 'N/A'}\")\n",
    "    print(\"---\")"
   ]
  }
 ],
 "metadata": {
  "kernelspec": {
   "display_name": "Python (venv)",
   "language": "python",
   "name": "venv"
  },
  "language_info": {
   "codemirror_mode": {
    "name": "ipython",
    "version": 3
   },
   "file_extension": ".py",
   "mimetype": "text/x-python",
   "name": "python",
   "nbconvert_exporter": "python",
   "pygments_lexer": "ipython3",
   "version": "3.11.8"
  }
 },
 "nbformat": 4,
 "nbformat_minor": 2
}
